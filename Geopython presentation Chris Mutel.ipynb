{
 "cells": [
  {
   "cell_type": "markdown",
   "metadata": {
    "slideshow": {
     "slide_type": "slide"
    }
   },
   "source": [
    "# Using Python for regionalized sustainability assessment\n",
    "\n",
    "## Chris Mutel, PSI\n",
    "\n",
    "<img src=\"images/psi.png\">"
   ]
  },
  {
   "cell_type": "markdown",
   "metadata": {
    "slideshow": {
     "slide_type": "subslide"
    }
   },
   "source": [
    "<img width=\"900\" src=\"images/train.jpg\">"
   ]
  },
  {
   "cell_type": "markdown",
   "metadata": {
    "slideshow": {
     "slide_type": "subslide"
    }
   },
   "source": [
    "(image here of supply chains)"
   ]
  },
  {
   "cell_type": "markdown",
   "metadata": {
    "slideshow": {
     "slide_type": "slide"
    }
   },
   "source": [
    "## GIS-enabled open source Python throughout the chain\n",
    "\n",
    "* Data manipulation\n",
    "* Calculations\n",
    "* Data generation"
   ]
  },
  {
   "cell_type": "markdown",
   "metadata": {
    "slideshow": {
     "slide_type": "slide"
    }
   },
   "source": [
    "<img src=\"images/ecoinvent.png\" width=\"1050\">"
   ]
  },
  {
   "cell_type": "markdown",
   "metadata": {
    "slideshow": {
     "slide_type": "subslide"
    }
   },
   "source": [
    "# Data Manipulation\n",
    "\n",
    "<img src=\"images/bw2.png\" width=\"400\" style=\"position: absolute; top: 0px;right: 0px;\">"
   ]
  },
  {
   "cell_type": "code",
   "execution_count": 17,
   "metadata": {
    "slideshow": {
     "slide_type": "subslide"
    }
   },
   "outputs": [],
   "source": [
    "import brightway2 as bw"
   ]
  },
  {
   "cell_type": "code",
   "execution_count": null,
   "metadata": {
    "slideshow": {
     "slide_type": "fragment"
    }
   },
   "outputs": [],
   "source": [
    "something = bw.Database(\"ecoinvent 3.4 cutoff\").random()\n",
    "something"
   ]
  },
  {
   "cell_type": "code",
   "execution_count": null,
   "metadata": {
    "slideshow": {
     "slide_type": "fragment"
    }
   },
   "outputs": [],
   "source": [
    "for exc in something.exchanges():\n",
    "    print(exc)"
   ]
  },
  {
   "cell_type": "markdown",
   "metadata": {
    "slideshow": {
     "slide_type": "subslide"
    }
   },
   "source": [
    "# Data Manipulation\n",
    "\n",
    "<img src=\"images/ocelot.png\" width=\"300\" style=\"position: absolute; top: 0px;right: 0px;\">"
   ]
  },
  {
   "cell_type": "code",
   "execution_count": null,
   "metadata": {
    "slideshow": {
     "slide_type": "fragment"
    }
   },
   "outputs": [],
   "source": [
    "def add_suppliers_to_markets(data, from_type=\"transforming activity\",\n",
    "                             to_type=\"market activity\", topo_func=None):\n",
    "    \"\"\"Add references to supplying exchanges to markets in field ``suppliers``. (Rest omitted)\"\"\"\n",
    "    filter_func = lambda x: x['type'] in (from_type, to_type)\n",
    "    grouped = toolz.groupby(\"reference product\", filter(filter_func, data))\n",
    "\n",
    "    for rp, datasets in grouped.items():\n",
    "        suppliers = [ds for ds in datasets if ds['type'] == from_type]\n",
    "        consumers = [ds for ds in datasets\n",
    "                     if ds['type'] == to_type\n",
    "                     and not ds.get('suppliers')]\n",
    "        if not consumers:\n",
    "            continue\n",
    "        if to_type == 'market activity':\n",
    "            no_overlaps(consumers)\n",
    "        apportion_suppliers_to_consumers(consumers, suppliers,\n",
    "            topo_func=topo_func or topology.contains)\n",
    "    return data"
   ]
  },
  {
   "cell_type": "markdown",
   "metadata": {
    "slideshow": {
     "slide_type": "subslide"
    }
   },
   "source": [
    "# Consistent world map\n",
    "\n",
    "<img src=\"images/topo.png\">"
   ]
  },
  {
   "cell_type": "markdown",
   "metadata": {
    "slideshow": {
     "slide_type": "subslide"
    }
   },
   "source": [
    "# \"Rest-of-World\"\n",
    "\n",
    "<img src=\"images/row.jpeg\">"
   ]
  },
  {
   "cell_type": "markdown",
   "metadata": {
    "slideshow": {
     "slide_type": "slide"
    }
   },
   "source": [
    "# Calculations\n",
    "\n",
    "<img src=\"images/calculation.jpeg\">"
   ]
  },
  {
   "cell_type": "markdown",
   "metadata": {
    "slideshow": {
     "slide_type": "subslide"
    }
   },
   "source": [
    "# \"Regionalized\" calculations\n",
    "\n",
    "<img src=\"images/rc.jpeg\">"
   ]
  },
  {
   "cell_type": "markdown",
   "metadata": {
    "slideshow": {
     "slide_type": "subslide"
    }
   },
   "source": [
    "# Acidification (Ammonia)\n",
    "\n",
    "<img src=\"images/ammonia.png\">"
   ]
  },
  {
   "cell_type": "markdown",
   "metadata": {
    "slideshow": {
     "slide_type": "subslide"
    }
   },
   "source": [
    "# Land use (Pasture)\n",
    "\n",
    "<img src=\"images/pasture.png\">"
   ]
  },
  {
   "attachments": {},
   "cell_type": "markdown",
   "metadata": {
    "slideshow": {
     "slide_type": "subslide"
    }
   },
   "source": [
    "# Intersecting Two Spatial Scales\n",
    "\n",
    "<img src=\"images/intersections.jpeg\">"
   ]
  },
  {
   "cell_type": "markdown",
   "metadata": {
    "slideshow": {
     "slide_type": "subslide"
    }
   },
   "source": [
    "# Use third spatial scale to calculate weighted average\n",
    "\n",
    "<img src=\"images/third.jpeg\">"
   ]
  },
  {
   "cell_type": "markdown",
   "metadata": {
    "slideshow": {
     "slide_type": "subslide"
    }
   },
   "source": [
    "# Case study: Ethanol from Brailian sugar cane\n",
    "\n",
    "<img src=\"images/sugarcane.png\">"
   ]
  },
  {
   "cell_type": "markdown",
   "metadata": {},
   "source": [
    "# Yes Virginia, location really does matter\n",
    "\n"
   ]
  },
  {
   "cell_type": "markdown",
   "metadata": {
    "slideshow": {
     "slide_type": "slide"
    }
   },
   "source": [
    "<img src=\"images/ecosystem.png\">"
   ]
  },
  {
   "cell_type": "markdown",
   "metadata": {
    "slideshow": {
     "slide_type": "subslide"
    }
   },
   "source": [
    "<img src=\"images/future.png\">"
   ]
  },
  {
   "cell_type": "markdown",
   "metadata": {
    "slideshow": {
     "slide_type": "subslide"
    }
   },
   "source": [
    "# Thanks\n",
    "\n",
    "## My blog \n",
    "\n",
    "https://chris.mutel.org\n",
    "\n",
    "## Links\n",
    "\n",
    "* https://brightwaylca.org/\n",
    "* http://ocelot.space/\n",
    "* https://github.com/LCA-ActivityBrowser/activity-browser/\n",
    "* https://bitbucket.org/cmutel/brightway2-regional \n",
    "* http://geography.ecoinvent.org/\n",
    "* http://pandarus.readthedocs.io/ \n",
    "* https://github.com/cmutel/pandarus_remote\n",
    "* https://github.com/PascalLesage/brightway2-presamples"
   ]
  }
 ],
 "metadata": {
  "celltoolbar": "Slideshow",
  "kernelspec": {
   "display_name": "Python 3",
   "language": "python",
   "name": "python3"
  },
  "language_info": {
   "codemirror_mode": {
    "name": "ipython",
    "version": 3
   },
   "file_extension": ".py",
   "mimetype": "text/x-python",
   "name": "python",
   "nbconvert_exporter": "python",
   "pygments_lexer": "ipython3",
   "version": "3.6.5"
  }
 },
 "nbformat": 4,
 "nbformat_minor": 2
}
